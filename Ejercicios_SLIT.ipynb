{
  "nbformat": 4,
  "nbformat_minor": 0,
  "metadata": {
    "colab": {
      "private_outputs": true,
      "provenance": [],
      "authorship_tag": "ABX9TyNIdpEYxr/Wpt959A46DdC/",
      "include_colab_link": true
    },
    "kernelspec": {
      "name": "python3",
      "display_name": "Python 3"
    },
    "language_info": {
      "name": "python"
    }
  },
  "cells": [
    {
      "cell_type": "markdown",
      "metadata": {
        "id": "view-in-github",
        "colab_type": "text"
      },
      "source": [
        "<a href=\"https://colab.research.google.com/github/SlLeonn/SenalesySistemas/blob/main/Ejercicios_SLIT.ipynb\" target=\"_parent\"><img src=\"https://colab.research.google.com/assets/colab-badge.svg\" alt=\"Open In Colab\"/></a>"
      ]
    },
    {
      "cell_type": "markdown",
      "source": [
        "### ***1_Convolucion***"
      ],
      "metadata": {
        "id": "w3hlj3YWV42c"
      }
    },
    {
      "cell_type": "markdown",
      "source": [
        "### Evaluación de la convolución $ y(t) = x(t) * h(t) $\n",
        "\n",
        "Dadas las señales:\n",
        "\n",
        "- $ x(t) = \\text{rect}\\left(t - \\frac{1}{2}\\right) = u(t) - u(t - 1) $\n",
        "- $ h(t) = e^{-t} u(t) $\n",
        "\n",
        "La convolución se define como:\n",
        "\n",
        "$$\n",
        "y(t) = \\int_{-\\infty}^{\\infty} x(\\tau) h(t - \\tau) \\, d\\tau\n",
        "$$\n",
        "\n",
        "---\n",
        "\n",
        "#### **Caso 1: $ t < 0 $**\n",
        "\n",
        "No hay traslape entre $ x(\\tau) $ y $ h(t - \\tau) $, entonces:\n",
        "\n",
        "$$\n",
        "y(t) = 0\n",
        "$$\n",
        "\n",
        "---\n",
        "\n",
        "#### **Caso 2: $ 0 \\leq t < 1 $**\n",
        "\n",
        "El intervalo de integración es desde \\( \\tau = 0 \\) hasta \\( \\tau = t \\):\n",
        "\n",
        "$$\n",
        "y(t) = \\int_0^t e^{-(t - \\tau)} \\, d\\tau = e^{-t} \\int_0^t e^{\\tau} \\, d\\tau = e^{-t} (e^t - 1) = 1 - e^{-t}\n",
        "$$\n",
        "\n",
        "---\n",
        "\n",
        "#### **Caso 3: $ t \\geq 1 $**\n",
        "\n",
        "Ahora el traslape ocurre completamente en \\( \\tau \\in [0, 1] \\):\n",
        "\n",
        "$$\n",
        "y(t) = \\int_0^1 e^{-(t - \\tau)} \\, d\\tau = e^{-t} \\int_0^1 e^{\\tau} \\, d\\tau = e^{-t}(e - 1)\n",
        "$$\n",
        "\n",
        "---\n",
        "\n",
        "### Resultado final:\n",
        "\n",
        "$$\n",
        "y(t) =\n",
        "\\begin{cases}\n",
        "0, & t < 0 \\\\\\\\\n",
        "1 - e^{-t}, & 0 \\leq t < 1 \\\\\\\\\n",
        "(e - 1)e^{-t}, & t \\geq 1\n",
        "\\end{cases}\n",
        "$$\n"
      ],
      "metadata": {
        "id": "zkoZ4LtMWMTC"
      }
    },
    {
      "cell_type": "markdown",
      "source": [
        "### ***2_Respuesta_Impulso***"
      ],
      "metadata": {
        "id": "CFodSP7xXZPU"
      }
    },
    {
      "cell_type": "markdown",
      "source": [
        "---\n",
        "- Compare la señal de salida obtenida al resolver la EDO con la obtenida mediante la convolución. Son iguales?\n",
        "---"
      ],
      "metadata": {
        "id": "0-Ic43cubV-r"
      }
    },
    {
      "cell_type": "code",
      "source": [
        "import sympy as sym\n",
        "import numpy as np\n",
        "import matplotlib.pyplot as plt\n",
        "from sympy import Heaviside, DiracDelta\n",
        "\n",
        "# Configurar impresión bonita\n",
        "sym.init_printing()\n",
        "\n",
        "# Variables simbólicas\n",
        "t, tau = sym.symbols('t tau', real=True)\n",
        "x = sym.exp(-2*t) * sym.Heaviside(t)\n",
        "\n",
        "# EDO: y' + y = x(t)\n",
        "y = sym.Function('y')(t)\n",
        "ode = sym.Eq(y.diff(t) + y, x)\n",
        "sol_edo = sym.dsolve(ode)\n",
        "C1 = sym.symbols('C1')\n",
        "C1_val = sym.solve(sol_edo.rhs.subs(t, 0), C1)[0]\n",
        "y_edo = sol_edo.rhs.subs(C1, C1_val)\n",
        "\n",
        "# Mostrar solución simbólica de la EDO\n",
        "display(sym.Eq(sym.Function('y')(t), y_edo.simplify()))\n",
        "\n",
        "# Respuesta al impulso\n",
        "h = sym.Function('h')(t)\n",
        "impulse_ode = sym.Eq(h.diff(t) + h, DiracDelta(t))\n",
        "sol_h = sym.dsolve(impulse_ode)\n",
        "C2 = sym.symbols('C1')\n",
        "C2_val = sym.solve(sol_h.rhs.limit(t, 0, '-'), C2)[0]\n",
        "h_t = sol_h.rhs.subs(C2, C2_val)\n",
        "\n",
        "# Mostrar respuesta al impulso h(t)\n",
        "display(sym.Eq(sym.Function('h')(t), h_t.simplify()))\n",
        "\n",
        "# Convolución: y(t) = ∫₀ᵗ x(τ) h(t - τ) dτ\n",
        "x_tau = sym.exp(-2*tau)\n",
        "h_shifted = h_t.subs(t, t - tau).subs(Heaviside(t), 1)\n",
        "y_conv = sym.integrate(x_tau * h_shifted, (tau, 0, t))\n",
        "\n",
        "# Mostrar resultado de la convolución simbólicamente\n",
        "display(sym.Eq(sym.Function('y')(t), y_conv.simplify()))\n",
        "\n",
        "# Funciones numéricas\n",
        "y_edo_func = sym.lambdify(t, y_edo, 'numpy')\n",
        "y_conv_func = sym.lambdify(t, y_conv, 'numpy')\n",
        "\n",
        "# Tiempo y gráficos\n",
        "t_vals = np.linspace(0, 10, 400)\n",
        "\n",
        "plt.figure(figsize=(8, 4))\n",
        "plt.plot(t_vals, y_edo_func(t_vals), label='y(t) por EDO', color='blue')\n",
        "plt.plot(t_vals, y_conv_func(t_vals), label='y(t) por Convolución', color='red', linestyle='--')\n",
        "plt.xlabel('t')\n",
        "plt.ylabel('y(t)')\n",
        "plt.title('Comparación de la salida: EDO vs Convolución')\n",
        "plt.legend()\n",
        "plt.grid(True)\n",
        "plt.tight_layout()\n",
        "plt.show()"
      ],
      "metadata": {
        "id": "x1X9PJ-ObZZ9"
      },
      "execution_count": null,
      "outputs": []
    },
    {
      "cell_type": "markdown",
      "source": [
        "---\n",
        "- Compruebe la solución $ h(t) $  de la EDO cuando $ x(t)=δ(t) $ de manera manual. Tener en cuenta que  $ (d/dt) $ $ ϵ(t)=δ(t) $.\n",
        "---"
      ],
      "metadata": {
        "id": "9qlPP-W_cqZ1"
      }
    },
    {
      "cell_type": "markdown",
      "source": [
        "### Verificación manual de la solución $ h(t) = e^{-t} u(t) $ para la EDO\n",
        "\n",
        "Queremos comprobar que la función\n",
        "\n",
        "$$\n",
        "h(t) = e^{-t} u(t)\n",
        "$$\n",
        "\n",
        "satisface la ecuación diferencial:\n",
        "\n",
        "$$\n",
        "\\frac{d}{dt} h(t) + h(t) = \\delta(t)\n",
        "$$\n",
        "\n",
        "donde $ u(t) $ es la función escalón (Heaviside), y se cumple:\n",
        "\n",
        "$$\n",
        "\\frac{d}{dt} u(t) = \\delta(t)\n",
        "$$\n",
        "\n",
        "---\n",
        "\n",
        "#### Paso 1: Derivada de $ h(t) $\n",
        "\n",
        "Aplicando la regla del producto:\n",
        "\n",
        "$$\n",
        "\\frac{d}{dt} h(t) = \\frac{d}{dt} \\left( e^{-t} u(t) \\right)\n",
        "= \\left( \\frac{d}{dt} e^{-t} \\right) u(t) + e^{-t} \\frac{d}{dt} u(t)\n",
        "= -e^{-t} u(t) + e^{-t} \\delta(t)\n",
        "$$\n",
        "\n",
        "---\n",
        "\n",
        "#### Paso 2: Sustituimos en la EDO\n",
        "\n",
        "Sumamos $ \\frac{d}{dt} h(t) + h(t) $:\n",
        "\n",
        "$$\n",
        "\\left( -e^{-t} u(t) + e^{-t} \\delta(t) \\right) + e^{-t} u(t)\n",
        "= e^{-t} \\delta(t)\n",
        "$$\n",
        "\n",
        "---\n",
        "\n",
        "#### Paso 3: Evaluar en \\( t = 0 \\)\n",
        "\n",
        "Como $ e^{-t} \\delta(t) = \\delta(t) $, porque la delta \"extrae\" el valor en $ t = 0 $:\n",
        "\n",
        "$$\n",
        "e^{-t} \\delta(t) = e^0 \\cdot \\delta(t) = \\delta(t)\n",
        "$$\n",
        "\n",
        "---\n",
        "\n",
        "### ✅ Conclusión\n",
        "\n",
        "Hemos comprobado que:\n",
        "\n",
        "$$\n",
        "\\frac{d}{dt} h(t) + h(t) = \\delta(t)\n",
        "$$\n",
        "\n",
        "por lo tanto, $ h(t) = e^{-t} u(t) $ **es solución** de la EDO con entrada impulso.\n"
      ],
      "metadata": {
        "id": "i9E8bzpTjQsd"
      }
    },
    {
      "cell_type": "markdown",
      "source": [],
      "metadata": {
        "id": "S1CVZH6JkWBD"
      }
    },
    {
      "cell_type": "markdown",
      "source": [
        "---\n",
        "- Comprobar la solución de la integral de convolución de manera manual. Tener en cuenta las funciones Heaviside\n",
        "---"
      ],
      "metadata": {
        "id": "XSiLVmgkkSJH"
      }
    },
    {
      "cell_type": "markdown",
      "source": [
        "### Verificación manual de la solución de la convolución\n",
        "\n",
        "Queremos comprobar que la convolución:\n",
        "\n",
        "$$\n",
        "y(t) = x(t) * h(t) = \\int_0^t x(\\tau) \\cdot h(t - \\tau) \\, d\\tau\n",
        "$$\n",
        "\n",
        "con las señales:\n",
        "\n",
        "- Entrada:\n",
        "  $$\n",
        "  x(t) = e^{-2t} u(t)\n",
        "  $$\n",
        "\n",
        "- Respuesta al impulso:\n",
        "  $$\n",
        "  h(t) = e^{-t} u(t)\n",
        "  $$\n",
        "\n",
        "produce:\n",
        "\n",
        "$$\n",
        "y(t) = (e^{-t} - e^{-2t}) u(t)\n",
        "$$\n",
        "\n",
        "---\n",
        "\n",
        "#### Sustitución en la integral de convolución\n",
        "\n",
        "$$\n",
        "y(t) = \\int_0^t e^{-2\\tau} \\cdot e^{-(t - \\tau)} u(t - \\tau) \\, d\\tau\n",
        "$$\n",
        "\n",
        "Sabemos que $ u(t - \\tau) = 1 $ en el intervalo $ 0 \\leq \\tau \\leq t $, entonces:\n",
        "\n",
        "$$\n",
        "y(t) = \\int_0^t e^{-2\\tau} \\cdot e^{-(t - \\tau)} \\, d\\tau = e^{-t} \\int_0^t e^{-\\tau} \\, d\\tau\n",
        "$$\n",
        "\n",
        "Calculamos la integral:\n",
        "\n",
        "$$\n",
        "\\int_0^t e^{-\\tau} \\, d\\tau = \\left[ -e^{-\\tau} \\right]_0^t = -e^{-t} + 1\n",
        "$$\n",
        "\n",
        "Por lo tanto:\n",
        "\n",
        "$$\n",
        "y(t) = e^{-t} (1 - e^{-t}) = e^{-t} - e^{-2t}\n",
        "$$\n",
        "\n",
        "---\n",
        "\n",
        "### ✅ Conclusión\n",
        "\n",
        "Hemos comprobado manualmente que:\n",
        "\n",
        "$$\n",
        "x(t) * h(t) = (e^{-t} - e^{-2t}) u(t)\n",
        "$$\n",
        "\n",
        "lo cual coincide con la solución obtenida resolviendo la EDO.\n"
      ],
      "metadata": {
        "id": "AEQYdePIkYhi"
      }
    }
  ]
}